{
 "cells": [
  {
   "cell_type": "markdown",
   "metadata": {},
   "source": [
    "## Importing"
   ]
  },
  {
   "cell_type": "code",
   "execution_count": 1,
   "metadata": {},
   "outputs": [],
   "source": [
    "import pandas as pd\n",
    "import matplotlib.pyplot as plt\n",
    "import numpy as np\n",
    "import seaborn as sns\n"
   ]
  },
  {
   "cell_type": "markdown",
   "metadata": {},
   "source": [
    "## Reading in data"
   ]
  },
  {
   "cell_type": "code",
   "execution_count": 2,
   "metadata": {},
   "outputs": [
    {
     "data": {
      "text/html": [
       "<div>\n",
       "<style scoped>\n",
       "    .dataframe tbody tr th:only-of-type {\n",
       "        vertical-align: middle;\n",
       "    }\n",
       "\n",
       "    .dataframe tbody tr th {\n",
       "        vertical-align: top;\n",
       "    }\n",
       "\n",
       "    .dataframe thead th {\n",
       "        text-align: right;\n",
       "    }\n",
       "</style>\n",
       "<table border=\"1\" class=\"dataframe\">\n",
       "  <thead>\n",
       "    <tr style=\"text-align: right;\">\n",
       "      <th></th>\n",
       "      <th>ID</th>\n",
       "      <th>Q1</th>\n",
       "      <th>Q2</th>\n",
       "      <th>Q3</th>\n",
       "      <th>Q4</th>\n",
       "      <th>Q5</th>\n",
       "      <th>Q6</th>\n",
       "      <th>Q7</th>\n",
       "      <th>Q8_1</th>\n",
       "      <th>Q8_2</th>\n",
       "      <th>...</th>\n",
       "      <th>Q17</th>\n",
       "      <th>Q18</th>\n",
       "      <th>Q19</th>\n",
       "      <th>Latitude</th>\n",
       "      <th>Longitude</th>\n",
       "      <th>mobile_money</th>\n",
       "      <th>savings</th>\n",
       "      <th>borrowing</th>\n",
       "      <th>insurance</th>\n",
       "      <th>mobile_money_classification</th>\n",
       "    </tr>\n",
       "  </thead>\n",
       "  <tbody>\n",
       "    <tr>\n",
       "      <th>0</th>\n",
       "      <td>5086</td>\n",
       "      <td>98</td>\n",
       "      <td>2</td>\n",
       "      <td>3</td>\n",
       "      <td>1</td>\n",
       "      <td>1</td>\n",
       "      <td>2</td>\n",
       "      <td>2</td>\n",
       "      <td>0</td>\n",
       "      <td>0</td>\n",
       "      <td>...</td>\n",
       "      <td>-1</td>\n",
       "      <td>4</td>\n",
       "      <td>4</td>\n",
       "      <td>-4.460442</td>\n",
       "      <td>29.811396</td>\n",
       "      <td>0</td>\n",
       "      <td>0</td>\n",
       "      <td>0</td>\n",
       "      <td>0</td>\n",
       "      <td>0</td>\n",
       "    </tr>\n",
       "    <tr>\n",
       "      <th>1</th>\n",
       "      <td>1258</td>\n",
       "      <td>40</td>\n",
       "      <td>1</td>\n",
       "      <td>1</td>\n",
       "      <td>3</td>\n",
       "      <td>5</td>\n",
       "      <td>1</td>\n",
       "      <td>1</td>\n",
       "      <td>1</td>\n",
       "      <td>0</td>\n",
       "      <td>...</td>\n",
       "      <td>4</td>\n",
       "      <td>1</td>\n",
       "      <td>4</td>\n",
       "      <td>-6.176438</td>\n",
       "      <td>39.244871</td>\n",
       "      <td>1</td>\n",
       "      <td>1</td>\n",
       "      <td>1</td>\n",
       "      <td>0</td>\n",
       "      <td>3</td>\n",
       "    </tr>\n",
       "    <tr>\n",
       "      <th>2</th>\n",
       "      <td>331</td>\n",
       "      <td>18</td>\n",
       "      <td>2</td>\n",
       "      <td>4</td>\n",
       "      <td>6</td>\n",
       "      <td>3</td>\n",
       "      <td>2</td>\n",
       "      <td>1</td>\n",
       "      <td>0</td>\n",
       "      <td>0</td>\n",
       "      <td>...</td>\n",
       "      <td>-1</td>\n",
       "      <td>1</td>\n",
       "      <td>1</td>\n",
       "      <td>-6.825702</td>\n",
       "      <td>37.652798</td>\n",
       "      <td>1</td>\n",
       "      <td>0</td>\n",
       "      <td>0</td>\n",
       "      <td>0</td>\n",
       "      <td>2</td>\n",
       "    </tr>\n",
       "    <tr>\n",
       "      <th>3</th>\n",
       "      <td>6729</td>\n",
       "      <td>50</td>\n",
       "      <td>1</td>\n",
       "      <td>1</td>\n",
       "      <td>3</td>\n",
       "      <td>1</td>\n",
       "      <td>1</td>\n",
       "      <td>1</td>\n",
       "      <td>0</td>\n",
       "      <td>0</td>\n",
       "      <td>...</td>\n",
       "      <td>-1</td>\n",
       "      <td>1</td>\n",
       "      <td>4</td>\n",
       "      <td>-3.372049</td>\n",
       "      <td>35.808307</td>\n",
       "      <td>1</td>\n",
       "      <td>0</td>\n",
       "      <td>1</td>\n",
       "      <td>0</td>\n",
       "      <td>3</td>\n",
       "    </tr>\n",
       "    <tr>\n",
       "      <th>4</th>\n",
       "      <td>8671</td>\n",
       "      <td>34</td>\n",
       "      <td>1</td>\n",
       "      <td>1</td>\n",
       "      <td>1</td>\n",
       "      <td>1</td>\n",
       "      <td>2</td>\n",
       "      <td>1</td>\n",
       "      <td>0</td>\n",
       "      <td>1</td>\n",
       "      <td>...</td>\n",
       "      <td>-1</td>\n",
       "      <td>1</td>\n",
       "      <td>4</td>\n",
       "      <td>-7.179645</td>\n",
       "      <td>31.039095</td>\n",
       "      <td>1</td>\n",
       "      <td>1</td>\n",
       "      <td>0</td>\n",
       "      <td>1</td>\n",
       "      <td>3</td>\n",
       "    </tr>\n",
       "  </tbody>\n",
       "</table>\n",
       "<p>5 rows × 37 columns</p>\n",
       "</div>"
      ],
      "text/plain": [
       "     ID  Q1  Q2  Q3  Q4  Q5  Q6  Q7  Q8_1  Q8_2  ...  Q17  Q18  Q19  Latitude  \\\n",
       "0  5086  98   2   3   1   1   2   2     0     0  ...   -1    4    4 -4.460442   \n",
       "1  1258  40   1   1   3   5   1   1     1     0  ...    4    1    4 -6.176438   \n",
       "2   331  18   2   4   6   3   2   1     0     0  ...   -1    1    1 -6.825702   \n",
       "3  6729  50   1   1   3   1   1   1     0     0  ...   -1    1    4 -3.372049   \n",
       "4  8671  34   1   1   1   1   2   1     0     1  ...   -1    1    4 -7.179645   \n",
       "\n",
       "   Longitude  mobile_money  savings  borrowing  insurance  \\\n",
       "0  29.811396             0        0          0          0   \n",
       "1  39.244871             1        1          1          0   \n",
       "2  37.652798             1        0          0          0   \n",
       "3  35.808307             1        0          1          0   \n",
       "4  31.039095             1        1          0          1   \n",
       "\n",
       "   mobile_money_classification  \n",
       "0                            0  \n",
       "1                            3  \n",
       "2                            2  \n",
       "3                            3  \n",
       "4                            3  \n",
       "\n",
       "[5 rows x 37 columns]"
      ]
     },
     "execution_count": 2,
     "metadata": {},
     "output_type": "execute_result"
    }
   ],
   "source": [
    "TanzaniaMobMon = pd.read_csv('C:/Users/Mc Camel RT .LAPTOP-6N3UDB08/Downloads/training.csv')\n",
    "TanzaniaMobMon.columns\n",
    "TanzaniaMobMon.head(5)"
   ]
  },
  {
   "cell_type": "markdown",
   "metadata": {},
   "source": [
    "## 1. Examining the dataset. "
   ]
  },
  {
   "cell_type": "code",
   "execution_count": 6,
   "metadata": {},
   "outputs": [
    {
     "name": "stdout",
     "output_type": "stream",
     "text": [
      "The column themes are as follows: Index(['ID', 'Age', 'Gender', 'Marital status',\n",
      "       'Highest level of education completed', 'Form of land ownership',\n",
      "       'Land Onwership', 'Mobile phone ownership', 'Salaries/wages',\n",
      "       'Money from trading/selling', 'Money from providing a service',\n",
      "       'Occasional Jobs', 'Rental income',\n",
      "       'Interest from savings, investments', 'Pension', 'Social welfare money',\n",
      "       'Rely on someone else to send money', 'Someone else pays expenses',\n",
      "       'Other', 'Q9', 'Q10', 'Q11', 'Q12', 'Q13', 'Q14', 'Q15', 'Q16', 'Q17',\n",
      "       'Q18', 'Q19', 'Latitude', 'Longitude', 'mobile_money', 'savings',\n",
      "       'borrowing', 'insurance', 'mobile_money_classification'],\n",
      "      dtype='object')\n"
     ]
    }
   ],
   "source": [
    "#1.1 Get the column names\n",
    "column_names = TanzaniaMobMon.columns\n",
    "print('The column themes are as follows:', column_names)"
   ]
  },
  {
   "cell_type": "code",
   "execution_count": 8,
   "metadata": {},
   "outputs": [
    {
     "name": "stdout",
     "output_type": "stream",
     "text": [
      "The column themes are as follows: Index(['ID', 'Age', 'Gender', 'Marital status',\n",
      "       'Highest level of education completed', 'Form of land ownership',\n",
      "       'Land Onwership', 'Mobile phone ownership', 'Salaries/wages',\n",
      "       'Money from trading/selling', 'Money from providing a service',\n",
      "       'Occasional Jobs', 'Rental income',\n",
      "       'Interest from savings, investments', 'Pension', 'Social welfare money',\n",
      "       'Rely on someone else to send money', 'Someone else pays expenses',\n",
      "       'Other', 'Q9', 'Q10', 'Q11', 'Q12', 'Q13', 'Q14', 'Q15', 'Q16', 'Q17',\n",
      "       'Q18', 'Q19', 'Latitude', 'Longitude', 'mobile_money', 'savings',\n",
      "       'borrowing', 'insurance', 'mobile_money_classification'],\n",
      "      dtype='object')\n"
     ]
    }
   ],
   "source": [
    "#1.2 Renaming Columns\n",
    "TanzaniaMobMon.rename(columns = {\n",
    "    'Q1':'Age',\n",
    "    'Q2':'Gender',\n",
    "    'Q3':'Marital status',\n",
    "    'Q4':'Highest level of education completed',\n",
    "    'Q5':'Form of land ownership',\n",
    "    'Q6':'Land Onwership',\n",
    "    'Q7':'Mobile phone ownership',\n",
    "    'Q8_1':'Salaries/wages',\n",
    "    'Q8_2':'Money from trading/selling',\n",
    "    'Q8_3':'Money from providing a service',\n",
    "    'Q8_4':'Occasional Jobs',\n",
    "    'Q8_5':'Rental income', \n",
    "    'Q8_6':'Interest from savings, investments',\n",
    "    'Q8_7':'Pension', \n",
    "    'Q8_8':'Social welfare money', \n",
    "    'Q8_9':'Rely on someone else to send money',\n",
    "    'Q8_10':'Someone else pays expenses', \n",
    "    'Q8_11':'Other'\n",
    "   }, inplace = True)\n",
    "print('The column themes are as follows:', column_names)"
   ]
  },
  {
   "cell_type": "code",
   "execution_count": 9,
   "metadata": {},
   "outputs": [],
   "source": [
    "#1.3 Renaming indexes\n",
    "clean_up = {'Gender':    \n",
    "{    1:'Male', \n",
    "    2:'Female'\n",
    "},\n",
    "\n",
    "'Marital status': \n",
    "{   1:'Married',\n",
    "    2:'Divorced',\n",
    "    3:'Widowed',\n",
    "    4:'Single/never married'\n",
    "},\n",
    "\n",
    "'Highest level of education completed':\n",
    "{   1:'No formal education',\n",
    "    2:'Some primary',\n",
    "    3:'Primary completed',\n",
    "    4:'Post primary technical training',\n",
    "    5:'Some secondary',\n",
    "    6:'University or other higher education',\n",
    "    7: 'Don’t know'\n",
    "},\n",
    "\n",
    "'Form of land ownership':\n",
    "{   1:'Personally owns land',\n",
    "    2:'Owns land with someone els',\n",
    "    3:'Household member owns land',\n",
    "    4:'land is rented',\n",
    "    5:'Dont own land',\n",
    "    6:'Dont know'\n",
    "   \n",
    "},            \n",
    "            \n",
    "'Land Onwership':\n",
    "{   1:'Yes',\n",
    "    2:'No'\n",
    "   \n",
    "},\n",
    "\n",
    "'Mobile phone ownership':\n",
    "{   1:'Yes',\n",
    "    2:'No'\n",
    "       \n",
    "},\n",
    "\n",
    "'mobile_money_classification' :\n",
    "{   0:'No mobile money or other financial service',\n",
    "    1:'One other finacial service',\n",
    "    2:'Mobile money only',\n",
    "    3:'Mobile money and other financial service'\n",
    "}\n",
    "}\n",
    "\n",
    "TanzaniaMobMon.replace(clean_up, inplace=True)\n"
   ]
  },
  {
   "cell_type": "code",
   "execution_count": 10,
   "metadata": {},
   "outputs": [
    {
     "name": "stdout",
     "output_type": "stream",
     "text": [
      "The theme data types are as follows: ID                                        int64\n",
      "Age                                       int64\n",
      "Gender                                   object\n",
      "Marital status                           object\n",
      "Highest level of education completed     object\n",
      "Form of land ownership                   object\n",
      "Land Onwership                           object\n",
      "Mobile phone ownership                   object\n",
      "Salaries/wages                            int64\n",
      "Money from trading/selling                int64\n",
      "Money from providing a service            int64\n",
      "Occasional Jobs                           int64\n",
      "Rental income                             int64\n",
      "Interest from savings, investments        int64\n",
      "Pension                                   int64\n",
      "Social welfare money                      int64\n",
      "Rely on someone else to send money        int64\n",
      "Someone else pays expenses                int64\n",
      "Other                                     int64\n",
      "Q9                                        int64\n",
      "Q10                                       int64\n",
      "Q11                                       int64\n",
      "Q12                                       int64\n",
      "Q13                                       int64\n",
      "Q14                                       int64\n",
      "Q15                                       int64\n",
      "Q16                                       int64\n",
      "Q17                                       int64\n",
      "Q18                                       int64\n",
      "Q19                                       int64\n",
      "Latitude                                float64\n",
      "Longitude                               float64\n",
      "mobile_money                              int64\n",
      "savings                                   int64\n",
      "borrowing                                 int64\n",
      "insurance                                 int64\n",
      "mobile_money_classification              object\n",
      "dtype: object\n"
     ]
    }
   ],
   "source": [
    "#1.4 Get the column data types\n",
    "column_types = TanzaniaMobMon.dtypes\n",
    "print(\"The theme data types are as follows:\",column_types)"
   ]
  },
  {
   "cell_type": "code",
   "execution_count": 11,
   "metadata": {},
   "outputs": [
    {
     "name": "stdout",
     "output_type": "stream",
     "text": [
      "The uniqueness of the column ID is: True\n"
     ]
    }
   ],
   "source": [
    "#1.5 Checking the uniqueness of the ID column\n",
    "print(\"The uniqueness of the column ID is:\",TanzaniaMobMon[\"ID\"].is_unique)"
   ]
  },
  {
   "cell_type": "code",
   "execution_count": 12,
   "metadata": {},
   "outputs": [
    {
     "name": "stdout",
     "output_type": "stream",
     "text": [
      "The number of missing values are: 0\n"
     ]
    }
   ],
   "source": [
    "#1.6 Checking for missing observations\n",
    "print(\"The number of missing values are:\",TanzaniaMobMon.isnull().sum().sum())"
   ]
  },
  {
   "cell_type": "markdown",
   "metadata": {},
   "source": [
    "# 2. Get basic descriptive statistics for the dataset."
   ]
  },
  {
   "cell_type": "markdown",
   "metadata": {},
   "source": [
    "## 2.1 Central Tendency"
   ]
  },
  {
   "cell_type": "code",
   "execution_count": 13,
   "metadata": {},
   "outputs": [],
   "source": [
    "#Describing the dataset\n",
    "TanzaniaMobMon.describe()\n",
    "count = TanzaniaMobMon['ID'].count()\n"
   ]
  },
  {
   "cell_type": "code",
   "execution_count": 14,
   "metadata": {},
   "outputs": [
    {
     "name": "stdout",
     "output_type": "stream",
     "text": [
      "In these results, you have 7094 observations\n"
     ]
    }
   ],
   "source": [
    "#2.1.1 Describing the size of the dataset:\n",
    "print(\"In these results, you have\", count, \"observations\")"
   ]
  },
  {
   "cell_type": "code",
   "execution_count": 15,
   "metadata": {},
   "outputs": [
    {
     "name": "stdout",
     "output_type": "stream",
     "text": [
      "The mean age is: 38.23949816746546\n",
      "The median age is: 35.0\n",
      "The age that appears the most is: 30\n"
     ]
    }
   ],
   "source": [
    "#2.1.2 Describe the center of your data\n",
    "#Mean: \n",
    "mean= TanzaniaMobMon[\"Age\"].mean()\n",
    "print(\"The mean age is:\",mean)\n",
    "    \n",
    "#Median:    \n",
    "median = TanzaniaMobMon[\"Age\"].median()\n",
    "print(\"The median age is:\",median)\n",
    "\n",
    "#Mode:\n",
    "mode = 30 #TanzaniaMobMon[\"Age\"].mode()\n",
    "print(\"The age that appears the most is:\", mode)\n",
    " "
   ]
  },
  {
   "cell_type": "markdown",
   "metadata": {},
   "source": [
    "## 2.2 Measures of dispersion"
   ]
  },
  {
   "cell_type": "code",
   "execution_count": 16,
   "metadata": {},
   "outputs": [
    {
     "data": {
      "image/png": "[encoded data removed]",
      "text/plain": [
       "<Figure size 432x288 with 2 Axes>"
      ]
     },
     "metadata": {
      "needs_background": "light"
     },
     "output_type": "display_data"
    }
   ],
   "source": [
    "#Graphics\n",
    "f, (ax_box, ax_hist) = plt.subplots(2, sharex=True, gridspec_kw= {\"height_ratios\": (0.2, 1)})\n",
    "\n",
    "x = TanzaniaMobMon[\"Age\"]\n",
    "\n",
    "sns.boxplot(x, ax=ax_box)\n",
    "ax_box.axvline(mean, color='r', linestyle='--')\n",
    "ax_box.axvline(median, color='g', linestyle='-')\n",
    "ax_box.axvline(mode, color='b', linestyle='-')\n",
    "\n",
    "sns.distplot(x, ax=ax_hist)\n",
    "ax_hist.axvline(mean, color='r', linestyle='--')\n",
    "ax_hist.axvline(median, color='g', linestyle='-')\n",
    "ax_hist.axvline(mode, color='b', linestyle='-')\n",
    "\n",
    "plt.legend({'Mean':mean,'Median':median,'Mode':mode})\n",
    "\n",
    "ax_box.set(xlabel='Age')\n",
    "ax_hist.set(xlabel='Age')\n",
    "\n",
    "plt.show()"
   ]
  },
  {
   "cell_type": "markdown",
   "metadata": {},
   "source": [
    "# 3.\tCreate appropriate graphs to visually represent the relationship between financial services accessed and age, gender, marital status, land ownership and type of income"
   ]
  },
  {
   "cell_type": "code",
   "execution_count": null,
   "metadata": {},
   "outputs": [
    {
     "data": {
      "text/plain": [
       "<matplotlib.axes._subplots.AxesSubplot at 0x26224dc2d30>"
      ]
     },
     "execution_count": 17,
     "metadata": {},
     "output_type": "execute_result"
    }
   ],
   "source": [
    "#Initializing\n",
    "age = TanzaniaMobMon[\"Age\"]\n",
    "gender = TanzaniaMobMon[\"Gender\"]\n",
    "marital_status = TanzaniaMobMon[\"Marital status\"]\n",
    "highest_education = TanzaniaMobMon[\"Highest level of education completed\"]\n",
    "land_ownership = TanzaniaMobMon[\"Form of land ownership\"]\n",
    "mobile_ownership = TanzaniaMobMon[\"Mobile phone ownership\"]\n",
    "financial_access = TanzaniaMobMon['mobile_money_classification']\n",
    "\n",
    "sal = TanzaniaMobMon['Salaries/wages']\n",
    "trad = TanzaniaMobMon['Money from trading/selling']\n",
    "serv = TanzaniaMobMon['Money from providing a service']\n",
    "occ = TanzaniaMobMon['Occasional Jobs']\n",
    "rent = TanzaniaMobMon['Rental income']\n",
    "intr = TanzaniaMobMon['Interest from savings, investments']\n",
    "pens = TanzaniaMobMon['Pension']\n",
    "soci = TanzaniaMobMon['Social welfare money']\n",
    "rely = TanzaniaMobMon['Rely on someone else to send money']\n",
    "els =TanzaniaMobMon['Someone else pays expenses']\n",
    "othr = TanzaniaMobMon['Other']\n",
    "\n",
    "data = {\n",
    "    'Salaries/wages':sal, \n",
    "    'Money from trading/selling':trad,\n",
    "    'Money from providing a service' :serv,\n",
    "    'Occasional Jobs' :occ,\n",
    "    'Rental income' :rent,\n",
    "    'Interest from savings, investments' :intr,\n",
    "    'Pension' :pens,\n",
    "    'Social welfare money' :soci,\n",
    "    'Rely on someone else to send money' :rely,\n",
    "    'Someone else pays expenses' :els,\n",
    "    'Other' :othr }\n",
    "\n",
    "type_of_income = pd.DataFrame(data)\n",
    "\n",
    "type_of_income.plot.bar(rot=0)\n"
   ]
  },
  {
   "cell_type": "code",
   "execution_count": null,
   "metadata": {},
   "outputs": [],
   "source": [
    "#3.1.Financial services accessed vs age\n",
    "#3.2 Financial services accessed vs gender\n",
    "#3.3 Financial services accessed vs marital status\n",
    "#3.4 Financial services accessed vs land ownership\n",
    "#3.5 Financial services accessed vs type of income\n",
    "\n",
    "sns.set()\n",
    "TanzaniaMobMon['Age by decades'] = TanzaniaMobMon['Age'].apply(lambda x : int(x/10)* 10)\n",
    "ages = TanzaniaMobMon['Age by decades']\n",
    "\n",
    "fig, axes = plt.subplots(2,2, figsize=(15, 15))\n",
    "sns.countplot(x = ages, hue = 'mobile_money_classification', ax=axes[0, 0], data = TanzaniaMobMon)\n",
    "sns.countplot(x = marital_status, hue = 'mobile_money_classification', ax=axes[0, 1], data = TanzaniaMobMon)\n",
    "sns.countplot(x = land_ownership, hue = 'mobile_money_classification', ax=axes[1, 0], data = TanzaniaMobMon)\n",
    "sns.countplot(x = gender, hue = 'mobile_money_classification', ax=axes[1, 1], data = TanzaniaMobMon)\n"
   ]
  },
  {
   "cell_type": "markdown",
   "metadata": {},
   "source": [
    "## 4.\tCreate appropriate graphs to visually represent the relationship between how often mobile services are used and age, gender, marital status, land ownership and type of income\n"
   ]
  },
  {
   "cell_type": "code",
   "execution_count": null,
   "metadata": {},
   "outputs": [],
   "source": [
    "#4.1. how often mobile services are used vs age\n",
    "#4.2. how often mobile services are used vs gender\n",
    "#4.3. how often mobile services are used vs marital status\n",
    "#4.4. how often mobile services are used vs land ownership\n",
    "#4.5. how often mobile services are used vs type of income\n",
    "\n",
    "fig, axes = plt.subplots(2, 2, figsize=(15, 15))\n",
    "sns.barplot(x = ages, y = TanzaniaMobMon['Q16'], ax=axes[0, 0], data = TanzaniaMobMon)\n",
    "sns.countplot(x = gender, hue = TanzaniaMobMon['Q16'], ax=axes[0, 1], data = TanzaniaMobMon)\n",
    "sns.countplot(x = marital_status, hue = TanzaniaMobMon['Q16'], ax=axes[1, 0], data = TanzaniaMobMon)\n",
    "sns.countplot(x = land_ownership, hue = TanzaniaMobMon['Q16'], ax=axes[1, 1], data = TanzaniaMobMon)\n",
    "#sns.countplot(x = type_of_income, hue = TanzaniaMobMon['Q16'], ax=axes[2, 0], data = TanzaniaMobMon)\n",
    "\n"
   ]
  },
  {
   "cell_type": "markdown",
   "metadata": {},
   "source": [
    "## 5.\tCreate a map to visually explore geographic distribution of mobile services coverage with respect to type of income"
   ]
  },
  {
   "cell_type": "code",
   "execution_count": null,
   "metadata": {},
   "outputs": [],
   "source": [
    "#initializing\n",
    "lati = -6.3728253; \n",
    "longi = 34.8924826\n",
    "income_map = folium.Map(location = [lati, longi], zoom_start = 5)\n",
    "marker_cluster = MarkerCluster().add_to(income_map)\n",
    "\n",
    "# add markers to map\n",
    "for lati, lng, label in zip(mob_mon['Latitude'], mob_mon['Longitude'], \n",
    "                           mob_mon['income_type']):\n",
    "    label = folium.Popup(str(label), parse_html=True)\n",
    "    folium.CircleMarker(\n",
    "        [lat, lng],\n",
    "        radius=5,\n",
    "        popup=label,\n",
    "        color='pink',\n",
    "        fill=True,\n",
    "        fill_color='#3386cc',\n",
    "        fill_opacity=0.7,\n",
    "        parse_html=False).add_to(marker_cluster)  \n",
    "\n",
    "income_type_map"
   ]
  }
 ],
 "metadata": {
  "kernelspec": {
   "display_name": "Python 3",
   "language": "python",
   "name": "python3"
  },
  "language_info": {
   "codemirror_mode": {
    "name": "ipython",
    "version": 3
   },
   "file_extension": ".py",
   "mimetype": "text/x-python",
   "name": "python",
   "nbconvert_exporter": "python",
   "pygments_lexer": "ipython3",
   "version": "3.7.3"
  }
 },
 "nbformat": 4,
 "nbformat_minor": 2
}
